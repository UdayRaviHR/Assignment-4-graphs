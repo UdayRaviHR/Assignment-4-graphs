{
 "cells": [
  {
   "cell_type": "code",
   "execution_count": 1,
   "metadata": {},
   "outputs": [
    {
     "name": "stdout",
     "output_type": "stream",
     "text": [
      "A C B F D E "
     ]
    }
   ],
   "source": [
    "from collections import deque\n",
    "\n",
    "def bfs(graph, start):\n",
    "    # Initialize a set to keep track of visited vertices\n",
    "    visited = set()\n",
    "    \n",
    "    # Initialize a queue and enqueue the starting vertex\n",
    "    queue = deque([start])\n",
    "    \n",
    "    # Traverse the graph using BFS\n",
    "    while queue:\n",
    "        # Dequeue a vertex from the queue\n",
    "        vertex = queue.popleft()\n",
    "        \n",
    "        # Visit the vertex if it has not been visited before\n",
    "        if vertex not in visited:\n",
    "            print(vertex, end=' ')\n",
    "            \n",
    "            # Mark the vertex as visited\n",
    "            visited.add(vertex)\n",
    "            \n",
    "            # Enqueue the adjacent vertices\n",
    "            queue.extend(graph[vertex] - visited)\n",
    "# Example usage\n",
    "# Create an example graph as an adjacency list\n",
    "graph = {\n",
    "    'A': {'B', 'C'},\n",
    "    'B': {'A', 'D', 'E'},\n",
    "    'C': {'A', 'F'},\n",
    "    'D': {'B'},\n",
    "    'E': {'B', 'F'},\n",
    "    'F': {'C', 'E'}\n",
    "}\n",
    "\n",
    "# Perform a BFS traversal of the graph starting from vertex 'A'\n",
    "start = 'A'\n",
    "bfs(graph, start)\n"
   ]
  },
  {
   "cell_type": "code",
   "execution_count": 2,
   "metadata": {},
   "outputs": [
    {
     "name": "stdout",
     "output_type": "stream",
     "text": [
      "A C F E B D "
     ]
    }
   ],
   "source": [
    "def dfs(graph, start, visited=None):\n",
    "    if visited is None:\n",
    "        visited = set()\n",
    "    \n",
    "    visited.add(start)\n",
    "    print(start, end=' ')\n",
    "    \n",
    "    for neighbor in graph[start]:\n",
    "        if neighbor not in visited:\n",
    "            dfs(graph, neighbor, visited)\n",
    "# Example usage\n",
    "# Create an example graph as an adjacency list\n",
    "graph = {\n",
    "    'A': {'B', 'C'},\n",
    "    'B': {'A', 'D', 'E'},\n",
    "    'C': {'A', 'F'},\n",
    "    'D': {'B'},\n",
    "    'E': {'B', 'F'},\n",
    "    'F': {'C', 'E'}\n",
    "}\n",
    "\n",
    "# Perform a DFS traversal of the graph starting from vertex 'A'\n",
    "start = 'A'\n",
    "dfs(graph, start)\n"
   ]
  },
  {
   "cell_type": "code",
   "execution_count": 3,
   "metadata": {},
   "outputs": [
    {
     "name": "stdout",
     "output_type": "stream",
     "text": [
      "Number of nodes at level 2: 2\n"
     ]
    }
   ],
   "source": [
    "from collections import deque\n",
    "\n",
    "def count_nodes_at_level(root, level):\n",
    "    # Edge case: empty tree\n",
    "    if not root:\n",
    "        return 0\n",
    "    \n",
    "    # Initialize a queue and add the root node to it\n",
    "    queue = deque()\n",
    "    queue.append(root)\n",
    "    \n",
    "    # Initialize a variable to keep track of the current level\n",
    "    current_level = 0\n",
    "    \n",
    "    # Initialize a variable to count the nodes at the given level\n",
    "    count = 0\n",
    "    \n",
    "    # Traverse the tree using BFS\n",
    "    while queue:\n",
    "        # Increment the current level\n",
    "        current_level += 1\n",
    "        \n",
    "        # Get the number of nodes at the current level\n",
    "        level_size = len(queue)\n",
    "        \n",
    "        # Check if the current level matches the given level\n",
    "        if current_level == level:\n",
    "            count = level_size\n",
    "        \n",
    "        # Enqueue the children of the nodes at the current level\n",
    "        for _ in range(level_size):\n",
    "            node = queue.popleft()\n",
    "            if node.left:\n",
    "                queue.append(node.left)\n",
    "            if node.right:\n",
    "                queue.append(node.right)\n",
    "    \n",
    "    return count\n",
    "# Example usage\n",
    "class TreeNode:\n",
    "    def __init__(self, val=0, left=None, right=None):\n",
    "        self.val = val\n",
    "        self.left = left\n",
    "        self.right = right\n",
    "\n",
    "# Create a binary tree\n",
    "root = TreeNode(1)\n",
    "root.left = TreeNode(2)\n",
    "root.right = TreeNode(3)\n",
    "root.left.left = TreeNode(4)\n",
    "root.left.right = TreeNode(5)\n",
    "root.right.left = TreeNode(6)\n",
    "root.right.right = TreeNode(7)\n",
    "\n",
    "# Count the number of nodes at level 2\n",
    "level = 2\n",
    "count = count_nodes_at_level(root, level)\n",
    "print(f\"Number of nodes at level {level}: {count}\")\n"
   ]
  },
  {
   "cell_type": "code",
   "execution_count": 4,
   "metadata": {},
   "outputs": [
    {
     "name": "stdout",
     "output_type": "stream",
     "text": [
      "Number of trees: 10\n"
     ]
    }
   ],
   "source": [
    "def count_trees(forest):\n",
    "    tree_count = 0\n",
    "    for row in forest:\n",
    "        for tree in row:\n",
    "            if tree == \"tree\":\n",
    "                tree_count += 1\n",
    "    return tree_count\n",
    "# Example usage\n",
    "forest = [\n",
    "    [\"tree\", \"tree\", \"rock\", \"tree\"],\n",
    "    [\"tree\", \"rock\", \"tree\", \"tree\"],\n",
    "    [\"tree\", \"tree\", \"tree\", \"tree\"],\n",
    "    [\"rock\", \"rock\", \"rock\", \"rock\"]\n",
    "]\n",
    "\n",
    "num_trees = count_trees(forest)\n",
    "print(\"Number of trees:\", num_trees)\n"
   ]
  },
  {
   "cell_type": "code",
   "execution_count": 5,
   "metadata": {},
   "outputs": [
    {
     "name": "stdout",
     "output_type": "stream",
     "text": [
      "The graph contains a cycle.\n"
     ]
    }
   ],
   "source": [
    "def has_cycle(graph):\n",
    "    visited = set()\n",
    "    rec_stack = set()\n",
    "\n",
    "    def dfs(node):\n",
    "        visited.add(node)\n",
    "        rec_stack.add(node)\n",
    "\n",
    "        for neighbor in graph[node]:\n",
    "            if neighbor not in visited:\n",
    "                if dfs(neighbor):\n",
    "                    return True\n",
    "            elif neighbor in rec_stack:\n",
    "                return True\n",
    "\n",
    "        rec_stack.remove(node)\n",
    "        return False\n",
    "\n",
    "    for node in graph:\n",
    "        if node not in visited:\n",
    "            if dfs(node):\n",
    "                return True\n",
    "\n",
    "    return False\n",
    "# Example usage\n",
    "graph = {0: [1], 1: [2], 2: [0, 3], 3: [4], 4: []}\n",
    "\n",
    "if has_cycle(graph):\n",
    "    print(\"The graph contains a cycle.\")\n",
    "else:\n",
    "    print(\"The graph does not contain a cycle.\")"
   ]
  },
  {
   "cell_type": "code",
   "execution_count": 6,
   "metadata": {},
   "outputs": [
    {
     "name": "stdout",
     "output_type": "stream",
     "text": [
      "[0, 0, 1, 0]\n",
      "[1, 0, 0, 0]\n",
      "[0, 0, 0, 1]\n",
      "[0, 1, 0, 0]\n"
     ]
    }
   ],
   "source": [
    "def solve_n_queens(n):\n",
    "    def is_safe(board, row, col):\n",
    "        # Check if there is a queen in the same row\n",
    "        for i in range(col):\n",
    "            if board[row][i] == 1:\n",
    "                return False\n",
    "\n",
    "        # Check if there is a queen in the upper left diagonal\n",
    "        for i, j in zip(range(row, -1, -1), range(col, -1, -1)):\n",
    "            if board[i][j] == 1:\n",
    "                return False\n",
    "\n",
    "        # Check if there is a queen in the lower left diagonal\n",
    "        for i, j in zip(range(row, n, 1), range(col, -1, -1)):\n",
    "            if board[i][j] == 1:\n",
    "                return False\n",
    "\n",
    "        return True\n",
    "\n",
    "    def backtrack(board, col):\n",
    "        if col >= n:\n",
    "            return True\n",
    "\n",
    "        for row in range(n):\n",
    "            if is_safe(board, row, col):\n",
    "                board[row][col] = 1\n",
    "\n",
    "                if backtrack(board, col+1):\n",
    "                    return True\n",
    "\n",
    "                board[row][col] = 0\n",
    "\n",
    "        return False\n",
    "\n",
    "    # Initialize an empty board\n",
    "    board = [[0 for _ in range(n)] for _ in range(n)]\n",
    "\n",
    "    if backtrack(board, 0):\n",
    "        return board\n",
    "\n",
    "    return None\n",
    "# Example usage\n",
    "n = 4\n",
    "solution = solve_n_queens(n)\n",
    "\n",
    "if solution is None:\n",
    "    print(\"No solution exists.\")\n",
    "else:\n",
    "    for row in solution:\n",
    "        print(row)"
   ]
  }
 ],
 "metadata": {
  "kernelspec": {
   "display_name": "Python 3",
   "language": "python",
   "name": "python3"
  },
  "language_info": {
   "codemirror_mode": {
    "name": "ipython",
    "version": 3
   },
   "file_extension": ".py",
   "mimetype": "text/x-python",
   "name": "python",
   "nbconvert_exporter": "python",
   "pygments_lexer": "ipython3",
   "version": "3.7.9"
  },
  "orig_nbformat": 4
 },
 "nbformat": 4,
 "nbformat_minor": 2
}
